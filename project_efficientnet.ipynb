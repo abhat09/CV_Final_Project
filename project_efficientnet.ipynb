{
 "cells": [
  {
   "cell_type": "code",
   "execution_count": 1,
   "metadata": {},
   "outputs": [],
   "source": [
    "import tensorflow as tf\n",
    "import os\n",
    "from tensorflow.keras import layers, models, callbacks\n",
    "from tensorflow.keras.applications import EfficientNetB1\n",
    "from tensorflow.keras.preprocessing import image_dataset_from_directory\n",
    "import numpy as np\n",
    "import pandas as pd\n",
    "import os\n",
    "import random\n",
    "import shutil\n",
    "from pathlib import Path"
   ]
  },
  {
   "cell_type": "code",
   "execution_count": 6,
   "metadata": {},
   "outputs": [],
   "source": [
    "original_dir = Path('/Users/nidhipareddy/Desktop/uchicago/Computer Vision/ai_art_classification/train')\n",
    "new_base = Path('/Users/nidhipareddy/Desktop/uchicago/Computer Vision/ai_art_classification/split_data')\n",
    "new_train = new_base / 'train'\n",
    "new_test = new_base / 'test'\n",
    "\n",
    "#make the test and train splits and save \n",
    "for d in [new_train, new_test]:\n",
    "    if d.exists():\n",
    "        shutil.rmtree(d)\n",
    "    d.mkdir(parents=True, exist_ok=True)\n",
    "\n",
    "split_ratio = 0.2\n",
    "for class_dir in original_dir.glob(\"*\"):\n",
    "    if not class_dir.is_dir():\n",
    "        continue\n",
    "    images = list(class_dir.glob(\"*.jpg\"))\n",
    "    random.shuffle(images)\n",
    "    split_idx = int(len(images) * (1 - split_ratio))\n",
    "    train_images = images[:split_idx]\n",
    "    test_images = images[split_idx:]\n",
    "\n",
    "    (new_train / class_dir.name).mkdir(parents=True, exist_ok=True)\n",
    "    (new_test / class_dir.name).mkdir(parents=True, exist_ok=True)\n",
    "\n",
    "    for img in train_images:\n",
    "        shutil.copy(img, new_train / class_dir.name / img.name)\n",
    "    for img in test_images:\n",
    "        shutil.copy(img, new_test / class_dir.name / img.name)\n"
   ]
  },
  {
   "cell_type": "code",
   "execution_count": 7,
   "metadata": {},
   "outputs": [],
   "source": [
    "train_dir = '/Users/nidhipareddy/Desktop/uchicago/Computer Vision/ai_art_classification/split_data/train'\n",
    "test_dir  = '/Users/nidhipareddy/Desktop/uchicago/Computer Vision/ai_art_classification/split_data/test'"
   ]
  },
  {
   "cell_type": "code",
   "execution_count": 8,
   "metadata": {},
   "outputs": [
    {
     "name": "stdout",
     "output_type": "stream",
     "text": [
      "Found 14894 files belonging to 2 classes.\n",
      "Using 11916 files for training.\n",
      "Found 14894 files belonging to 2 classes.\n",
      "Using 2978 files for validation.\n",
      "Found 3724 files belonging to 2 classes.\n"
     ]
    }
   ],
   "source": [
    "img_size = (224, 224)\n",
    "batch_size = 32\n",
    "seed = 42\n",
    "\n",
    "#training, test, and val splits\n",
    "train_ds = image_dataset_from_directory(\n",
    "    train_dir,\n",
    "    validation_split=0.2,\n",
    "    subset=\"training\",\n",
    "    seed=42,\n",
    "    image_size=(224, 224),\n",
    "    batch_size=32\n",
    ")\n",
    "\n",
    "val_ds = image_dataset_from_directory(\n",
    "    train_dir,\n",
    "    validation_split=0.2,\n",
    "    subset=\"validation\",\n",
    "    seed=42,\n",
    "    image_size=(224, 224),\n",
    "    batch_size=32\n",
    ")\n",
    "\n",
    "test_ds = image_dataset_from_directory(\n",
    "    test_dir,\n",
    "    image_size=(224, 224),\n",
    "    batch_size=32,\n",
    "    shuffle=False\n",
    ")\n",
    "\n",
    "AUTOTUNE = tf.data.AUTOTUNE\n",
    "train_ds = train_ds.prefetch(buffer_size=AUTOTUNE)\n",
    "val_ds = val_ds.prefetch(buffer_size=AUTOTUNE)\n",
    "\n",
    "# Data augmentation\n",
    "data_augmentation = tf.keras.Sequential([\n",
    "    layers.RandomFlip(\"horizontal\"),\n",
    "    layers.RandomRotation(0.1),\n",
    "    layers.RandomZoom(0.1),\n",
    "])"
   ]
  },
  {
   "cell_type": "code",
   "execution_count": 9,
   "metadata": {},
   "outputs": [],
   "source": [
    "# Create the model\n",
    "base_model = EfficientNetB1(\n",
    "    include_top=False,\n",
    "    weights=\"imagenet\",\n",
    "    input_shape=(224, 224, 3)\n",
    ")\n",
    "base_model.trainable = False\n",
    "\n",
    "inputs = layers.Input(shape=(224, 224, 3))\n",
    "x = data_augmentation(inputs)\n",
    "x = tf.keras.applications.efficientnet.preprocess_input(x)\n",
    "x = base_model(x, training=False)\n",
    "x = layers.GlobalAveragePooling2D()(x)\n",
    "x = layers.Dropout(0.5)(x)\n",
    "outputs = layers.Dense(1, activation='sigmoid')(x)\n",
    "\n",
    "model = models.Model(inputs, outputs)\n",
    "\n",
    "# Compile the model\n",
    "model.compile(\n",
    "    optimizer=tf.keras.optimizers.Adam(learning_rate=0.001),\n",
    "    loss='binary_crossentropy',\n",
    "    metrics=['accuracy']\n",
    ")"
   ]
  },
  {
   "cell_type": "code",
   "execution_count": 10,
   "metadata": {},
   "outputs": [
    {
     "name": "stdout",
     "output_type": "stream",
     "text": [
      "Epoch 1/20\n",
      "\u001b[1m373/373\u001b[0m \u001b[32m━━━━━━━━━━━━━━━━━━━━\u001b[0m\u001b[37m\u001b[0m \u001b[1m1148s\u001b[0m 3s/step - accuracy: 0.7605 - loss: 0.4776 - val_accuracy: 0.8657 - val_loss: 0.3138 - learning_rate: 0.0010\n",
      "Epoch 2/20\n",
      "\u001b[1m373/373\u001b[0m \u001b[32m━━━━━━━━━━━━━━━━━━━━\u001b[0m\u001b[37m\u001b[0m \u001b[1m2524s\u001b[0m 7s/step - accuracy: 0.8609 - loss: 0.3317 - val_accuracy: 0.8788 - val_loss: 0.2982 - learning_rate: 0.0010\n",
      "Epoch 3/20\n",
      "\u001b[1m373/373\u001b[0m \u001b[32m━━━━━━━━━━━━━━━━━━━━\u001b[0m\u001b[37m\u001b[0m \u001b[1m1014s\u001b[0m 3s/step - accuracy: 0.8621 - loss: 0.3127 - val_accuracy: 0.8758 - val_loss: 0.2979 - learning_rate: 0.0010\n",
      "Epoch 4/20\n",
      "\u001b[1m373/373\u001b[0m \u001b[32m━━━━━━━━━━━━━━━━━━━━\u001b[0m\u001b[37m\u001b[0m \u001b[1m835s\u001b[0m 2s/step - accuracy: 0.8710 - loss: 0.3096 - val_accuracy: 0.8798 - val_loss: 0.2900 - learning_rate: 0.0010\n",
      "Epoch 5/20\n",
      "\u001b[1m373/373\u001b[0m \u001b[32m━━━━━━━━━━━━━━━━━━━━\u001b[0m\u001b[37m\u001b[0m \u001b[1m848s\u001b[0m 2s/step - accuracy: 0.8699 - loss: 0.3057 - val_accuracy: 0.8791 - val_loss: 0.2965 - learning_rate: 0.0010\n",
      "Epoch 6/20\n",
      "\u001b[1m373/373\u001b[0m \u001b[32m━━━━━━━━━━━━━━━━━━━━\u001b[0m\u001b[37m\u001b[0m \u001b[1m231s\u001b[0m 620ms/step - accuracy: 0.8704 - loss: 0.3024 - val_accuracy: 0.8798 - val_loss: 0.2939 - learning_rate: 0.0010\n",
      "Epoch 7/20\n",
      "\u001b[1m373/373\u001b[0m \u001b[32m━━━━━━━━━━━━━━━━━━━━\u001b[0m\u001b[37m\u001b[0m \u001b[1m240s\u001b[0m 643ms/step - accuracy: 0.8782 - loss: 0.2983 - val_accuracy: 0.8781 - val_loss: 0.2964 - learning_rate: 2.0000e-04\n",
      "Epoch 8/20\n",
      "\u001b[1m373/373\u001b[0m \u001b[32m━━━━━━━━━━━━━━━━━━━━\u001b[0m\u001b[37m\u001b[0m \u001b[1m239s\u001b[0m 642ms/step - accuracy: 0.8735 - loss: 0.2981 - val_accuracy: 0.8778 - val_loss: 0.2954 - learning_rate: 2.0000e-04\n",
      "Epoch 9/20\n",
      "\u001b[1m373/373\u001b[0m \u001b[32m━━━━━━━━━━━━━━━━━━━━\u001b[0m\u001b[37m\u001b[0m \u001b[1m236s\u001b[0m 633ms/step - accuracy: 0.8780 - loss: 0.2903 - val_accuracy: 0.8774 - val_loss: 0.2955 - learning_rate: 4.0000e-05\n"
     ]
    }
   ],
   "source": [
    "# Callbacks\n",
    "early_stop = callbacks.EarlyStopping(monitor='val_loss', patience=5, restore_best_weights=True)\n",
    "reduce_lr = callbacks.ReduceLROnPlateau(monitor='val_loss', factor=0.2, patience=2, min_lr=1e-6)\n",
    "\n",
    "# Train the model\n",
    "history = model.fit(\n",
    "    train_ds,\n",
    "    validation_data=val_ds,\n",
    "    epochs=20,\n",
    "    callbacks=[early_stop, reduce_lr]\n",
    ")"
   ]
  },
  {
   "cell_type": "code",
   "execution_count": 11,
   "metadata": {},
   "outputs": [
    {
     "name": "stdout",
     "output_type": "stream",
     "text": [
      "Epoch 1/10\n",
      "\u001b[1m373/373\u001b[0m \u001b[32m━━━━━━━━━━━━━━━━━━━━\u001b[0m\u001b[37m\u001b[0m \u001b[1m590s\u001b[0m 2s/step - accuracy: 0.8382 - loss: 0.3721 - val_accuracy: 0.8707 - val_loss: 0.3134 - learning_rate: 1.0000e-05\n",
      "Epoch 2/10\n",
      "\u001b[1m373/373\u001b[0m \u001b[32m━━━━━━━━━━━━━━━━━━━━\u001b[0m\u001b[37m\u001b[0m \u001b[1m528s\u001b[0m 1s/step - accuracy: 0.8742 - loss: 0.2919 - val_accuracy: 0.8878 - val_loss: 0.2771 - learning_rate: 1.0000e-05\n",
      "Epoch 3/10\n",
      "\u001b[1m373/373\u001b[0m \u001b[32m━━━━━━━━━━━━━━━━━━━━\u001b[0m\u001b[37m\u001b[0m \u001b[1m527s\u001b[0m 1s/step - accuracy: 0.8912 - loss: 0.2634 - val_accuracy: 0.8936 - val_loss: 0.2623 - learning_rate: 1.0000e-05\n",
      "Epoch 4/10\n",
      "\u001b[1m373/373\u001b[0m \u001b[32m━━━━━━━━━━━━━━━━━━━━\u001b[0m\u001b[37m\u001b[0m \u001b[1m522s\u001b[0m 1s/step - accuracy: 0.9003 - loss: 0.2381 - val_accuracy: 0.8993 - val_loss: 0.2444 - learning_rate: 1.0000e-05\n",
      "Epoch 5/10\n",
      "\u001b[1m373/373\u001b[0m \u001b[32m━━━━━━━━━━━━━━━━━━━━\u001b[0m\u001b[37m\u001b[0m \u001b[1m522s\u001b[0m 1s/step - accuracy: 0.9100 - loss: 0.2172 - val_accuracy: 0.9033 - val_loss: 0.2340 - learning_rate: 1.0000e-05\n",
      "Epoch 6/10\n",
      "\u001b[1m373/373\u001b[0m \u001b[32m━━━━━━━━━━━━━━━━━━━━\u001b[0m\u001b[37m\u001b[0m \u001b[1m526s\u001b[0m 1s/step - accuracy: 0.9179 - loss: 0.1993 - val_accuracy: 0.9036 - val_loss: 0.2293 - learning_rate: 1.0000e-05\n",
      "Epoch 7/10\n",
      "\u001b[1m373/373\u001b[0m \u001b[32m━━━━━━━━━━━━━━━━━━━━\u001b[0m\u001b[37m\u001b[0m \u001b[1m533s\u001b[0m 1s/step - accuracy: 0.9246 - loss: 0.1818 - val_accuracy: 0.9130 - val_loss: 0.2150 - learning_rate: 1.0000e-05\n",
      "Epoch 8/10\n",
      "\u001b[1m373/373\u001b[0m \u001b[32m━━━━━━━━━━━━━━━━━━━━\u001b[0m\u001b[37m\u001b[0m \u001b[1m527s\u001b[0m 1s/step - accuracy: 0.9268 - loss: 0.1819 - val_accuracy: 0.9150 - val_loss: 0.2117 - learning_rate: 1.0000e-05\n",
      "Epoch 9/10\n",
      "\u001b[1m373/373\u001b[0m \u001b[32m━━━━━━━━━━━━━━━━━━━━\u001b[0m\u001b[37m\u001b[0m \u001b[1m531s\u001b[0m 1s/step - accuracy: 0.9357 - loss: 0.1701 - val_accuracy: 0.9191 - val_loss: 0.2023 - learning_rate: 1.0000e-05\n",
      "Epoch 10/10\n",
      "\u001b[1m373/373\u001b[0m \u001b[32m━━━━━━━━━━━━━━━━━━━━\u001b[0m\u001b[37m\u001b[0m \u001b[1m528s\u001b[0m 1s/step - accuracy: 0.9318 - loss: 0.1650 - val_accuracy: 0.9204 - val_loss: 0.2006 - learning_rate: 1.0000e-05\n"
     ]
    }
   ],
   "source": [
    "#Unfreeze and train \n",
    "base_model.trainable = True\n",
    "fine_tune_at = 100 \n",
    "\n",
    "for layer in base_model.layers[:fine_tune_at]:\n",
    "    layer.trainable = False\n",
    "\n",
    "model.compile(\n",
    "    optimizer=tf.keras.optimizers.Adam(learning_rate=1e-5),\n",
    "    loss='binary_crossentropy',\n",
    "    metrics=['accuracy']\n",
    ")\n",
    "\n",
    "fine_tune_history = model.fit(\n",
    "    train_ds,\n",
    "    validation_data=val_ds,\n",
    "    epochs=10,\n",
    "    callbacks=[early_stop, reduce_lr]\n",
    ")"
   ]
  },
  {
   "cell_type": "code",
   "execution_count": 12,
   "metadata": {},
   "outputs": [
    {
     "name": "stdout",
     "output_type": "stream",
     "text": [
      "Found 3724 files belonging to 2 classes.\n"
     ]
    },
    {
     "name": "stderr",
     "output_type": "stream",
     "text": [
      "2025-05-22 19:03:26.425771: I tensorflow/core/framework/local_rendezvous.cc:407] Local rendezvous is aborting with status: OUT_OF_RANGE: End of sequence\n"
     ]
    },
    {
     "name": "stdout",
     "output_type": "stream",
     "text": [
      "\u001b[1m117/117\u001b[0m \u001b[32m━━━━━━━━━━━━━━━━━━━━\u001b[0m\u001b[37m\u001b[0m \u001b[1m52s\u001b[0m 432ms/step\n",
      "Classification Report:\n",
      "\n",
      "                  precision    recall  f1-score   support\n",
      "\n",
      "    AI_GENERATED       0.91      0.97      0.94      2066\n",
      "NON_AI_GENERATED       0.96      0.88      0.92      1658\n",
      "\n",
      "        accuracy                           0.93      3724\n",
      "       macro avg       0.94      0.93      0.93      3724\n",
      "    weighted avg       0.93      0.93      0.93      3724\n",
      "\n"
     ]
    },
    {
     "data": {
      "image/png": "[encoded data removed]",
      "text/plain": [
       "<Figure size 640x480 with 2 Axes>"
      ]
     },
     "metadata": {},
     "output_type": "display_data"
    }
   ],
   "source": [
    "from sklearn.metrics import classification_report, confusion_matrix, ConfusionMatrixDisplay\n",
    "import matplotlib.pyplot as plt\n",
    "import numpy as np\n",
    "\n",
    "# Load test data\n",
    "test_ds = tf.keras.preprocessing.image_dataset_from_directory(\n",
    "    test_dir,\n",
    "    image_size=img_size,\n",
    "    batch_size=batch_size,\n",
    "    shuffle=False  # do not shuffle\n",
    ")\n",
    "\n",
    "# get label and class names \n",
    "y_true = np.concatenate([y for x, y in test_ds], axis=0)\n",
    "class_names = test_ds.class_names\n",
    "\n",
    "# Use test to predict\n",
    "y_prob = model.predict(test_ds)\n",
    "y_pred = (y_prob > 0.5).astype(\"int\").flatten()\n",
    "\n",
    "# Classification Report\n",
    "print(\"Classification Report:\\n\")\n",
    "print(classification_report(y_true, y_pred, target_names=class_names))\n",
    "\n",
    "# Confusion Matrix\n",
    "cm = confusion_matrix(y_true, y_pred)\n",
    "disp = ConfusionMatrixDisplay(confusion_matrix=cm, display_labels=class_names)\n",
    "disp.plot(cmap=plt.cm.Blues)\n",
    "plt.title(\"Confusion Matrix — Test Set\")\n",
    "plt.show()\n"
   ]
  },
  {
   "cell_type": "code",
   "execution_count": 13,
   "metadata": {},
   "outputs": [
    {
     "name": "stderr",
     "output_type": "stream",
     "text": [
      "WARNING:absl:You are saving your model as an HDF5 file via `model.save()` or `keras.saving.save_model(model)`. This file format is considered legacy. We recommend using instead the native Keras format, e.g. `model.save('my_model.keras')` or `keras.saving.save_model(model, 'my_model.keras')`. \n"
     ]
    }
   ],
   "source": [
    "model.save('ai_art_detector.h5')"
   ]
  }
 ],
 "metadata": {
  "kernelspec": {
   "display_name": "base",
   "language": "python",
   "name": "python3"
  },
  "language_info": {
   "codemirror_mode": {
    "name": "ipython",
    "version": 3
   },
   "file_extension": ".py",
   "mimetype": "text/x-python",
   "name": "python",
   "nbconvert_exporter": "python",
   "pygments_lexer": "ipython3",
   "version": "3.10.8"
  },
  "orig_nbformat": 4
 },
 "nbformat": 4,
 "nbformat_minor": 2
}
